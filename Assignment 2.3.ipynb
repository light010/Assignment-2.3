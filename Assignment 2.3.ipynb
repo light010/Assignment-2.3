{
 "cells": [
  {
   "cell_type": "code",
   "execution_count": 3,
   "metadata": {},
   "outputs": [],
   "source": [
    "def longestWord(lst):\n",
    "    '''\n",
    "    input - list of strings\n",
    "    output - longest list present in list\n",
    "    process - iterating through each string of list and compairing their lengths with the lenght of first string.\n",
    "            if length of iterative string finds bigger than the length of the first string then switch that string \n",
    "            to the first position and continue that process.\n",
    "    '''\n",
    "    for j in range(len(lst)):\n",
    "        if (len(lst[j]) > len(lst[0])):\n",
    "            (lst[0], lst[j]) = (lst[j], lst[0])\n",
    "        else:\n",
    "            pass\n",
    "    return lst[0]"
   ]
  },
  {
   "cell_type": "code",
   "execution_count": 5,
   "metadata": {},
   "outputs": [
    {
     "data": {
      "text/plain": [
       "'jnv;onbhkjbkn'"
      ]
     },
     "execution_count": 5,
     "metadata": {},
     "output_type": "execute_result"
    }
   ],
   "source": [
    "user_input = ['prakash', 'mishra', 'jnv;onbhkjbkn', 'an;a', 'na;']     #input list\n",
    "longestWord(user_input)        #calling function"
   ]
  },
  {
   "cell_type": "code",
   "execution_count": null,
   "metadata": {
    "collapsed": true
   },
   "outputs": [],
   "source": []
  }
 ],
 "metadata": {
  "kernelspec": {
   "display_name": "Python 3",
   "language": "python",
   "name": "python3"
  },
  "language_info": {
   "codemirror_mode": {
    "name": "ipython",
    "version": 3
   },
   "file_extension": ".py",
   "mimetype": "text/x-python",
   "name": "python",
   "nbconvert_exporter": "python",
   "pygments_lexer": "ipython3",
   "version": "3.6.3"
  }
 },
 "nbformat": 4,
 "nbformat_minor": 2
}
